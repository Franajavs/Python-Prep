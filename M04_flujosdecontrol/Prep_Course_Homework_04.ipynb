{
 "cells": [
  {
   "attachments": {},
   "cell_type": "markdown",
   "metadata": {},
   "source": [
    "## Flujos de Control"
   ]
  },
  {
   "attachments": {},
   "cell_type": "markdown",
   "metadata": {},
   "source": [
    "1) Crear una variable que contenga un elemento del conjunto de números enteros y luego imprimir por pantalla si es mayor o menor a cero"
   ]
  },
  {
   "cell_type": "code",
   "execution_count": 2,
   "metadata": {},
   "outputs": [
    {
     "name": "stdout",
     "output_type": "stream",
     "text": [
      "x es mayor que cero\n"
     ]
    }
   ],
   "source": [
    "x = 5\n",
    "if x > 0:\n",
    "    print(\"x es mayor que cero\")\n",
    "elif x == 0:\n",
    "    print(\"x es igual a 0\")\n",
    "else:\n",
    "    print(\"x es menor que cero\") \n",
    "    \n"
   ]
  },
  {
   "attachments": {},
   "cell_type": "markdown",
   "metadata": {},
   "source": [
    "2) Crear dos variables y un condicional que informe si son del mismo tipo de dato"
   ]
  },
  {
   "cell_type": "code",
   "execution_count": 4,
   "metadata": {},
   "outputs": [
    {
     "name": "stdout",
     "output_type": "stream",
     "text": [
      "No son el mimso tipo\n"
     ]
    }
   ],
   "source": [
    "varOne = 345\n",
    "varTwo = \"la casa es bella\"\n",
    "if (type(varOne) == type(varTwo)):\n",
    "    print(\"Las variables son el mismo tipo\")\n",
    "else:\n",
    "    print(\"No son el mimso tipo\")\n",
    "    \n",
    "\n",
    "\n"
   ]
  },
  {
   "attachments": {},
   "cell_type": "markdown",
   "metadata": {},
   "source": [
    "3) Para los valores enteros del 1 al 20, imprimir por pantalla si es par o impar"
   ]
  },
  {
   "cell_type": "code",
   "execution_count": null,
   "metadata": {},
   "outputs": [],
   "source": [
    "#resuelto con for\n",
    "for i in range(1,21):\n",
    "    if i % 2 == 0:\n",
    "        print(\"el numero\", str(i), \" es par\")\n",
    "    else:\n",
    "        print(\"el numero\", str(i), \" es impar\")\n"
   ]
  },
  {
   "cell_type": "code",
   "execution_count": 10,
   "metadata": {},
   "outputs": [
    {
     "name": "stdout",
     "output_type": "stream",
     "text": [
      "el numero 1  es impar\n",
      "el numero 2  es par\n",
      "el numero 3  es impar\n",
      "el numero 4  es par\n",
      "el numero 5  es impar\n",
      "el numero 6  es par\n",
      "el numero 7  es impar\n",
      "el numero 8  es par\n",
      "el numero 9  es impar\n",
      "el numero 10  es par\n",
      "el numero 11  es impar\n",
      "el numero 12  es par\n",
      "el numero 13  es impar\n",
      "el numero 14  es par\n",
      "el numero 15  es impar\n",
      "el numero 16  es par\n",
      "el numero 17  es impar\n",
      "el numero 18  es par\n",
      "el numero 19  es impar\n",
      "el numero 20  es par\n",
      "el numero 21  es impar\n"
     ]
    }
   ],
   "source": [
    "#resuelto con while\n",
    "i = 1\n",
    "while(i <= 21):\n",
    "    if i % 2 == 0:\n",
    "        print(\"el numero\", str(i), \" es par\")\n",
    "    else:\n",
    "        print(\"el numero\", str(i), \" es impar\")\n",
    "    i = i + 1\n",
    "\n"
   ]
  },
  {
   "attachments": {},
   "cell_type": "markdown",
   "metadata": {},
   "source": [
    "4) En un ciclo for mostrar para los valores entre 0 y 5 el resultado de elevarlo a la potencia igual a 3"
   ]
  },
  {
   "cell_type": "code",
   "execution_count": 11,
   "metadata": {},
   "outputs": [
    {
     "name": "stdout",
     "output_type": "stream",
     "text": [
      "valor 0 elevado a la tercera potencia es:  0\n",
      "valor 1 elevado a la tercera potencia es:  1\n",
      "valor 2 elevado a la tercera potencia es:  8\n",
      "valor 3 elevado a la tercera potencia es:  27\n",
      "valor 4 elevado a la tercera potencia es:  64\n",
      "valor 5 elevado a la tercera potencia es:  125\n"
     ]
    }
   ],
   "source": [
    "for i in range(0, 6):\n",
    "    print(\"valor\", str(i), \"elevado a la tercera potencia es: \", i**3)\n",
    "    \n",
    "\n"
   ]
  },
  {
   "attachments": {},
   "cell_type": "markdown",
   "metadata": {},
   "source": [
    "5) Crear una variable que contenga un número entero y realizar un ciclo for la misma cantidad de ciclos"
   ]
  },
  {
   "cell_type": "code",
   "execution_count": 15,
   "metadata": {},
   "outputs": [
    {
     "name": "stdout",
     "output_type": "stream",
     "text": [
      "4\n"
     ]
    }
   ],
   "source": [
    "x = 5\n",
    "for i in range(0, x):\n",
    "    pass\n",
    "print(i)\n",
    "\n"
   ]
  },
  {
   "attachments": {},
   "cell_type": "markdown",
   "metadata": {},
   "source": [
    "6) Utilizar un ciclo while para realizar el factorial de un número guardado en una variable, sólo si la variable contiene un número entero mayor a 0"
   ]
  },
  {
   "cell_type": "code",
   "execution_count": 24,
   "metadata": {},
   "outputs": [
    {
     "name": "stdout",
     "output_type": "stream",
     "text": [
      " el factorial es 120\n"
     ]
    }
   ],
   "source": [
    "#resuelto con while\n",
    "x = 5\n",
    "if (type(x)== int):\n",
    "    if (x > 0):\n",
    "        factorial = x\n",
    "        while(x > 2):\n",
    "            x = x - 1\n",
    "            factorial = factorial * x\n",
    "        print(\" el factorial es\", factorial)\n",
    "    else:\n",
    "        print( \" El numero es igual o menor a cero\") \n",
    "else:\n",
    "    print(\" el numero no es un entero\") \n",
    "\n",
    "\n",
    "                 \n"
   ]
  },
  {
   "cell_type": "code",
   "execution_count": 28,
   "metadata": {},
   "outputs": [
    {
     "name": "stdout",
     "output_type": "stream",
     "text": [
      "720\n"
     ]
    }
   ],
   "source": [
    "#resuelto con bucle for\n",
    "\n",
    "dato = 6\n",
    "factorial = 1\n",
    "for i in range(2, (dato + 1)):\n",
    "    factorial = i * factorial\n",
    "print(factorial)\n"
   ]
  },
  {
   "attachments": {},
   "cell_type": "markdown",
   "metadata": {},
   "source": [
    "7) Crear un ciclo for dentro de un ciclo while"
   ]
  },
  {
   "cell_type": "code",
   "execution_count": 30,
   "metadata": {},
   "outputs": [
    {
     "name": "stdout",
     "output_type": "stream",
     "text": [
      "ciclo while nro 1\n",
      "ciclo for nro 1\n",
      "ciclo while nro 2\n",
      "ciclo for nro 1\n",
      "ciclo for nro 2\n",
      "ciclo while nro 3\n",
      "ciclo for nro 1\n",
      "ciclo for nro 2\n",
      "ciclo for nro 3\n",
      "ciclo while nro 4\n",
      "ciclo for nro 1\n",
      "ciclo for nro 2\n",
      "ciclo for nro 3\n",
      "ciclo for nro 4\n"
     ]
    }
   ],
   "source": [
    "x = 1\n",
    "while x < 5:\n",
    "    print(\"ciclo while nro \" + str(x))\n",
    "    for i in range(1, x+1):\n",
    "        print(\"ciclo for nro\", str(i))\n",
    "    x += 1\n",
    "        \n",
    "\n"
   ]
  },
  {
   "attachments": {},
   "cell_type": "markdown",
   "metadata": {},
   "source": [
    "8) Crear un ciclo while dentro de un ciclo for"
   ]
  },
  {
   "cell_type": "code",
   "execution_count": null,
   "metadata": {},
   "outputs": [],
   "source": [
    "x = 5\n",
    "for i in range(1, x):\n",
    "    print(\"ciclo for nro\" + str(i))\n",
    "\n",
    "    x_temp = x\n",
    "\n",
    "    while x_temp > 0:\n",
    "        print(\"Ciclo while nro\" + str(x_temp))\n",
    "        x_temp -= 1\n",
    "\n",
    "        if x_temp <= 0:\n",
    "            break"
   ]
  },
  {
   "attachments": {},
   "cell_type": "markdown",
   "metadata": {},
   "source": [
    "9) Imprimir los números primos existentes entre 0 y 30"
   ]
  },
  {
   "cell_type": "code",
   "execution_count": 1,
   "metadata": {},
   "outputs": [
    {
     "name": "stdout",
     "output_type": "stream",
     "text": [
      "0\n",
      "1\n",
      "2\n",
      "3\n",
      "5\n",
      "7\n",
      "11\n",
      "13\n",
      "17\n",
      "19\n",
      "23\n",
      "29\n"
     ]
    }
   ],
   "source": [
    "topedeRango = 30\n",
    "x = 0\n",
    "primo = True\n",
    "while (x < topedeRango):\n",
    "    for div in range(2, x):\n",
    "        if (x % div == 0):\n",
    "            primo = False\n",
    "    if (primo):\n",
    "        print(x)\n",
    "    else:\n",
    "        primo = True\n",
    "    x +=1"
   ]
  },
  {
   "attachments": {},
   "cell_type": "markdown",
   "metadata": {},
   "source": [
    "10) ¿Se puede mejorar el proceso del punto 9? Utilizar las sentencias break y/ó continue para tal fin"
   ]
  },
  {
   "cell_type": "code",
   "execution_count": 3,
   "metadata": {},
   "outputs": [
    {
     "name": "stdout",
     "output_type": "stream",
     "text": [
      "0\n",
      "1\n",
      "2\n",
      "3\n",
      "5\n",
      "7\n",
      "11\n",
      "13\n",
      "17\n",
      "19\n",
      "23\n",
      "29\n"
     ]
    }
   ],
   "source": [
    "topedeRango = 30\n",
    "x = 0\n",
    "primo = True\n",
    "while (x < topedeRango):\n",
    "    for div in range(2, x):\n",
    "        if (x % div == 0):\n",
    "            primo = False\n",
    "            break\n",
    "    if (primo):\n",
    "        print(x)\n",
    "    else:\n",
    "        primo = True\n",
    "    x +=1"
   ]
  },
  {
   "attachments": {},
   "cell_type": "markdown",
   "metadata": {},
   "source": [
    "11) En los puntos 9 y 10, se diseño un código que encuentra números primos y además se lo optimizó. ¿Es posible saber en qué medida se optimizó?"
   ]
  },
  {
   "cell_type": "code",
   "execution_count": 8,
   "metadata": {},
   "outputs": [
    {
     "name": "stdout",
     "output_type": "stream",
     "text": [
      "0\n",
      "1\n",
      "2\n",
      "3\n",
      "5\n",
      "7\n",
      "11\n",
      "13\n",
      "17\n",
      "19\n",
      "23\n",
      "29\n",
      "cantidad de ciclos: 378\n"
     ]
    }
   ],
   "source": [
    "ciclosSinBreack = 0\n",
    "x = 0\n",
    "primo = True\n",
    "while (x < topedeRango):\n",
    "    for div in range(2, x):\n",
    "        ciclosSinBreack +=1\n",
    "        if (x % div == 0):\n",
    "            primo = False\n",
    "    if (primo):\n",
    "        print(x)\n",
    "    else:\n",
    "        primo = True\n",
    "    x += 1\n",
    "print(\"cantidad de ciclos: \" + str(ciclosSinBreack))\n",
    "\n"
   ]
  },
  {
   "cell_type": "code",
   "execution_count": 11,
   "metadata": {},
   "outputs": [
    {
     "name": "stdout",
     "output_type": "stream",
     "text": [
      "0\n",
      "1\n",
      "2\n",
      "3\n",
      "5\n",
      "7\n",
      "11\n",
      "13\n",
      "17\n",
      "19\n",
      "23\n",
      "29\n",
      "cantidad de ciclos: 134\n",
      " Fue optimizado a un0.3544973544973545 % de ciclos aplicando Breack\n"
     ]
    }
   ],
   "source": [
    "ciclosConBrack = 0\n",
    "x = 0\n",
    "primo = True\n",
    "while (x < topedeRango):\n",
    "    for div in range(2, x):\n",
    "        ciclosConBrack +=1\n",
    "        if (x % div == 0):\n",
    "            primo = False\n",
    "            break\n",
    "    if (primo):\n",
    "        print(x)\n",
    "    else:\n",
    "        primo = True\n",
    "    x += 1\n",
    "print(\"cantidad de ciclos: \" + str(ciclosConBrack))\n",
    "print(\" Fue optimizado a un\" + str(ciclosConBrack/ciclosSinBreack) + \" % de ciclos aplicando Breack\")\n"
   ]
  },
  {
   "attachments": {},
   "cell_type": "markdown",
   "metadata": {},
   "source": [
    "12) Aplicando continue, armar un ciclo while que solo imprima los valores divisibles por 12, dentro del rango de números de 100 a 300"
   ]
  },
  {
   "cell_type": "code",
   "execution_count": null,
   "metadata": {},
   "outputs": [],
   "source": [
    "x = 99\n",
    "while(x <= 300):\n",
    "    x += 1\n",
    "    if (x % 12 != 0):\n",
    "        continue\n",
    "    print(x, \" este numero es divisible por 12\")\n"
   ]
  },
  {
   "attachments": {},
   "cell_type": "markdown",
   "metadata": {},
   "source": [
    "13) Utilizar la función **input()** que permite hacer ingresos por teclado, para encontrar números primos y dar la opción al usario de buscar el siguiente"
   ]
  },
  {
   "cell_type": "code",
   "execution_count": 16,
   "metadata": {},
   "outputs": [
    {
     "name": "stdout",
     "output_type": "stream",
     "text": [
      "1\n",
      "¿ Desea encontrar el sigieinte numero primo?\n",
      "2\n",
      "¿ Desea encontrar el sigieinte numero primo?\n",
      "3\n",
      "¿ Desea encontrar el sigieinte numero primo?\n",
      "5\n",
      "¿ Desea encontrar el sigieinte numero primo?\n"
     ]
    }
   ],
   "source": [
    "x = 1\n",
    "proximo = 1\n",
    "primo = True\n",
    "while (proximo == 1):\n",
    "    for div in range(2, x):\n",
    "        if (x % div == 0):\n",
    "            primo = False\n",
    "            break\n",
    "    if (primo):\n",
    "        print(x)\n",
    "        print(\"¿ Desea encontrar el sigieinte numero primo?\")\n",
    "        if (input() != \"1\"):\n",
    "            print(\"Se finaliza el proceso\")\n",
    "            break\n",
    "    else:\n",
    "        primo = True\n",
    "    x += 1\n",
    "                    "
   ]
  },
  {
   "attachments": {},
   "cell_type": "markdown",
   "metadata": {},
   "source": [
    "14) Crear un ciclo while que encuentre dentro del rango de 100 a 300 el primer número divisible por 3 y además múltiplo de 6"
   ]
  },
  {
   "cell_type": "code",
   "execution_count": 2,
   "metadata": {},
   "outputs": [
    {
     "name": "stdout",
     "output_type": "stream",
     "text": [
      "el numero es:  102\n"
     ]
    }
   ],
   "source": [
    "x = 100\n",
    "while(x <= 300):\n",
    "    if (x % 6 == 0):\n",
    "        print(\"el numero es: \", str(x))\n",
    "        break\n",
    "    x += 1\n"
   ]
  }
 ],
 "metadata": {
  "interpreter": {
   "hash": "c85384e4cb51c8b72350f3a8712cc8351fdc3955e32a27f9b60c6242ab125f01"
  },
  "kernelspec": {
   "display_name": "Python 3 (ipykernel)",
   "language": "python",
   "name": "python3"
  },
  "language_info": {
   "codemirror_mode": {
    "name": "ipython",
    "version": 3
   },
   "file_extension": ".py",
   "mimetype": "text/x-python",
   "name": "python",
   "nbconvert_exporter": "python",
   "pygments_lexer": "ipython3",
   "version": "3.12.3"
  }
 },
 "nbformat": 4,
 "nbformat_minor": 4
}
